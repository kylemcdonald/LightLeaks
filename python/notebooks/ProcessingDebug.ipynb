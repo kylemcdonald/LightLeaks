{
 "cells": [
  {
   "cell_type": "code",
   "execution_count": null,
   "id": "6861afd4",
   "metadata": {},
   "outputs": [],
   "source": [
    "%load_ext autoreload\n",
    "%autoreload 2\n",
    "\n",
    "import os\n",
    "import sys\n",
    "\n",
    "if '/home/jovyan/' not in sys.path:\n",
    "    sys.path.append('/home/jovyan/')\n",
    "\n",
    "module_path = os.path.abspath(os.path.join('..'))\n",
    "if module_path not in sys.path:\n",
    "    sys.path.append(module_path)\n",
    "\n",
    "from src import buildXyzMapCommand\n",
    "from src import processScansCommand\n",
    "\n",
    "\n",
    "data_dir = '/home/jovyan/SharedData'\n",
    "\n",
    "\n",
    "from utils.imutil import *\n",
    "from utils.progress import *\n",
    "\n",
    "import matplotlib.pyplot as plt\n",
    "%matplotlib inline\n",
    "\n",
    "\n"
   ]
  },
  {
   "cell_type": "code",
   "execution_count": null,
   "id": "9784fb03",
   "metadata": {},
   "outputs": [],
   "source": [
    "scan = 'scan-0630T12-26-48'\n",
    "blur_distance = 0\n",
    "normal_h, inverse_h, normal_v, inverse_v, reference_image, cam_mask_image, min_image = processScansCommand.load_scan(\n",
    "            scan, data_dir, blur_distance)"
   ]
  },
  {
   "cell_type": "code",
   "execution_count": null,
   "id": "063a6680",
   "metadata": {},
   "outputs": [],
   "source": [
    "imshow(min_image, 'jpg', zoom=0.1)"
   ]
  },
  {
   "cell_type": "code",
   "execution_count": null,
   "id": "af8d289d",
   "metadata": {},
   "outputs": [],
   "source": [
    "diff_code_h, diff_code_v, confidence = processScansCommand.calculate_diference(\n",
    "            normal_h, inverse_h, normal_v, inverse_v, cam_mask_image)"
   ]
  },
  {
   "cell_type": "code",
   "execution_count": null,
   "id": "de169da0-025f-46e9-8550-ba34b6518e21",
   "metadata": {},
   "outputs": [],
   "source": [
    "# Render the confidence\n",
    "plt.hist(confidence.flatten(), bins=64, range=(0, 1))\n",
    "imshow(confidence*255, 'jpg', zoom=0.2)\n",
    "# plt.hist(confidence, 10)\n"
   ]
  },
  {
   "cell_type": "code",
   "execution_count": null,
   "id": "8a29d56c-a8ab-41f1-9071-e90276392164",
   "metadata": {},
   "outputs": [],
   "source": [
    "packed_h, packed_v = processScansCommand.pack_image(diff_code_h, diff_code_v)\n",
    "\n"
   ]
  },
  {
   "cell_type": "code",
   "execution_count": null,
   "id": "344ac02b-46ae-4daf-b2c2-ff50d07c2631",
   "metadata": {},
   "outputs": [],
   "source": [
    "# Render the cam map\n",
    "cam_map = processScansCommand.add_channel(np.dstack((packed_h, packed_v))).astype(np.float32)\n",
    "cam_map[confidence < 0.2] = 0\n",
    "cam_map[:,:,0] /= cam_map[:,:,0].max()\n",
    "cam_map[:,:,1] /= cam_map[:,:,1].max()\n",
    "\n",
    "imshow(cam_map*255, 'jpg', zoom=0.3)"
   ]
  },
  {
   "cell_type": "code",
   "execution_count": null,
   "id": "3cbf3897-08a8-4c84-b5d2-c92dcdbf511e",
   "metadata": {},
   "outputs": [],
   "source": [
    "projector_size = processScansCommand.get_projector_size(data_dir)\n",
    "pro_map, pro_confidence = processScansCommand.build_pro_map(\n",
    "            packed_v, packed_h, confidence, projector_size[0], projector_size[1])"
   ]
  },
  {
   "cell_type": "code",
   "execution_count": null,
   "id": "dca23d20-9867-4fa4-bc52-fb95cde3e0b6",
   "metadata": {},
   "outputs": [],
   "source": [
    "# Render the pro map\n",
    "debug_pro_map = pro_map.copy().astype(np.float32)\n",
    "debug_pro_map[:,:,0] = debug_pro_map[:,:,0] / debug_pro_map[:,:,0].max()\n",
    "debug_pro_map[:,:,1] = debug_pro_map[:,:,1] / debug_pro_map[:,:,1].max()\n",
    "\n",
    "imshow(debug_pro_map * 255, 'jpg', zoom=0.3)\n",
    "\n",
    "debug_pro_map[pro_confidence < 0.3] = 0\n",
    "imshow(debug_pro_map * 255, 'jpg', zoom=0.3)\n",
    "\n"
   ]
  },
  {
   "cell_type": "markdown",
   "id": "c2ae1fb6-a294-4295-8e7b-535f764a3d91",
   "metadata": {},
   "source": [
    "## Debug single pixel"
   ]
  },
  {
   "cell_type": "code",
   "execution_count": null,
   "id": "4be7cd14-ef7f-4a03-ac4c-264f082eeccb",
   "metadata": {},
   "outputs": [],
   "source": [
    "\n",
    "# Good pixel (reflection):\n",
    "pixel = (1669,673) # y,x\n",
    "\n",
    "# Bad pixel (non-reflection)\n",
    "# pixel = (1677,632) # y,x\n",
    "# Bad pixel (overlapping)\n",
    "# pixel = (1677, 3975)\n",
    "\n",
    "print(\"Confidence \", confidence[pixel[0], pixel[1]])\n",
    "print(\"Projector coordinate \", packed_v[pixel[0], pixel[1]],',', packed_h[pixel[0], pixel[1]])\n",
    "\n",
    "print()\n",
    "print(\"Diff codes\")\n",
    "\n",
    "# plt.hist(diff_code_h[:,pixel[0], pixel[1]], bins=20, range=(-200,200))\n",
    "diff_pixel = diff_code_h[:,pixel[0], pixel[1]]\n",
    "plt.figure(0)\n",
    "plt.plot(np.arange(len(diff_pixel)),diff_pixel)\n",
    "plt.axhline(y=0, color='r', linestyle='dashed')\n",
    "\n",
    "plt.figure(1)\n",
    "diff_pixel = diff_code_v[:,pixel[0], pixel[1]]\n",
    "plt.plot(np.arange(len(diff_pixel)),diff_pixel)\n",
    "plt.axhline(y=0, color='r', linestyle='dashed')\n",
    "# plt.hist(diff_code_v[:,pixel[0], pixel[1]])"
   ]
  },
  {
   "cell_type": "code",
   "execution_count": null,
   "id": "7ac7ec29-d908-4fdf-98a3-9bee63d4b301",
   "metadata": {},
   "outputs": [],
   "source": [
    "# Visualize normal/inverse\n",
    "\n",
    "diff_pixel = normal_h[:,0,pixel[0], pixel[1]]\n",
    "plt.figure(0)\n",
    "plt.plot(np.arange(len(diff_pixel)),diff_pixel)\n",
    "\n",
    "diff_pixel = inverse_h[:,0,pixel[0], pixel[1]]\n",
    "plt.plot(np.arange(len(diff_pixel)),diff_pixel)\n",
    "\n",
    "diff_pixel = normal_v[:,0,pixel[0], pixel[1]]\n",
    "plt.figure(1)\n",
    "plt.plot(np.arange(len(diff_pixel)),diff_pixel)\n",
    "\n",
    "diff_pixel = inverse_v[:,0,pixel[0], pixel[1]]\n",
    "plt.plot(np.arange(len(diff_pixel)),diff_pixel)\n",
    "\n"
   ]
  },
  {
   "cell_type": "markdown",
   "id": "7d38df84-8bb3-4eb0-aeba-ec7e68bcfb55",
   "metadata": {},
   "source": [
    "# Visualize graycode LUT"
   ]
  },
  {
   "cell_type": "code",
   "execution_count": null,
   "id": "0c4eb131-25ed-44df-a3bb-3ba5881c8735",
   "metadata": {},
   "outputs": [],
   "source": [
    "lut = processScansCommand.gray_lut(11)\n",
    "lut"
   ]
  },
  {
   "cell_type": "code",
   "execution_count": null,
   "id": "df5a0678-84a1-4bfa-820f-c5d83cc159e6",
   "metadata": {},
   "outputs": [],
   "source": []
  }
 ],
 "metadata": {
  "kernelspec": {
   "display_name": "Python 3 (ipykernel)",
   "language": "python",
   "name": "python3"
  },
  "language_info": {
   "codemirror_mode": {
    "name": "ipython",
    "version": 3
   },
   "file_extension": ".py",
   "mimetype": "text/x-python",
   "name": "python",
   "nbconvert_exporter": "python",
   "pygments_lexer": "ipython3",
   "version": "3.9.5"
  }
 },
 "nbformat": 4,
 "nbformat_minor": 5
}
